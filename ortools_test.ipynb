{
 "cells": [
  {
   "cell_type": "markdown",
   "metadata": {},
   "source": [
    "## Teste com a biblioteca ortools  google"
   ]
  },
  {
   "cell_type": "code",
   "execution_count": 54,
   "metadata": {},
   "outputs": [],
   "source": [
    "from __future__ import print_function\n",
    "from ortools.linear_solver import pywraplp"
   ]
  },
  {
   "cell_type": "code",
   "execution_count": 55,
   "metadata": {},
   "outputs": [],
   "source": [
    "#instanciando o solver para otimização linear\n",
    "solver = pywraplp.Solver('LinearProgrammingTest',\n",
    "                        pywraplp.Solver.GLOP_LINEAR_PROGRAMMING)\n"
   ]
  },
  {
   "cell_type": "markdown",
   "metadata": {},
   "source": [
    "### Criando variáveis do problema de otimização linear"
   ]
  },
  {
   "cell_type": "code",
   "execution_count": 56,
   "metadata": {},
   "outputs": [],
   "source": [
    "#Criando as variáveis do proplema de otimização linear\n",
    "inf = solver.infinity()\n",
    "\n",
    "#variáveis do problema\n",
    "num_vars = 3\n",
    "vars = []\n",
    "\n",
    "for i in range(num_vars):\n",
    "    vars.append(solver.NumVar(0,inf,'x'+str(i+1))) "
   ]
  },
  {
   "cell_type": "markdown",
   "metadata": {},
   "source": [
    "### Definindo as restrições"
   ]
  },
  {
   "cell_type": "code",
   "execution_count": 57,
   "metadata": {},
   "outputs": [],
   "source": [
    "#Restrições\n",
    "# 3x1 + 5x + 2x3 >= 60\n",
    "# 4x1 + 4x2 + 4x3 >= 72\n",
    "\n",
    "coefficients = [(3,5,2),(4,4,4)]\n",
    "data_constraints= [(60,inf),(72,inf)]\n",
    "\n",
    "constraints = []\n",
    "\n",
    "for i in range(len(data_constraints)):\n",
    "    constraints.append(solver.Constraint(data_constraints[i][0],data_constraints[i][1]))\n",
    "    \n",
    "    for j in range(len(coefficients[i])):\n",
    "        constraints[i].SetCoefficient(vars[j],coefficients[i][j]) "
   ]
  },
  {
   "cell_type": "markdown",
   "metadata": {},
   "source": [
    "### Definindo objetivo"
   ]
  },
  {
   "cell_type": "code",
   "execution_count": 81,
   "metadata": {},
   "outputs": [],
   "source": [
    "#FO (Função objetivo) = 5x1+ 10x2 + 8x3\n",
    "objective = solver.Objective()\n",
    "\n",
    "FO = [5,10,8]#coeficientes da FO\n",
    "\n",
    "for i in range(len(fo)):\n",
    "    objective.SetCoefficient(vars[i],FO[i])\n",
    "\n",
    "#objetivo é minimizar\n",
    "objective.SetMinimization()"
   ]
  },
  {
   "cell_type": "markdown",
   "metadata": {},
   "source": [
    "### Resolução do problema"
   ]
  },
  {
   "cell_type": "code",
   "execution_count": 82,
   "metadata": {},
   "outputs": [],
   "source": [
    "solver.Solve()\n",
    "opt_solution = 0\n",
    "\n",
    "for i in range(len(vars)):\n",
    "    opt_solution += fo[i] * vars[i].solution_value()\n",
    "    "
   ]
  },
  {
   "cell_type": "code",
   "execution_count": 83,
   "metadata": {},
   "outputs": [
    {
     "name": "stdout",
     "output_type": "stream",
     "text": [
      "Number of variables = 3\n",
      "Number of constraints = 2\n"
     ]
    }
   ],
   "source": [
    "print('Number of variables =', solver.NumVariables())\n",
    "print('Number of constraints =', solver.NumConstraints())"
   ]
  },
  {
   "cell_type": "code",
   "execution_count": 84,
   "metadata": {},
   "outputs": [
    {
     "name": "stdout",
     "output_type": "stream",
     "text": [
      "Solution:\n",
      "x1 =  20.0\n",
      "Solution:\n",
      "x2 =  0.0\n",
      "Solution:\n",
      "x3 =  0.0\n",
      "Optimal objective value = 100.0\n"
     ]
    }
   ],
   "source": [
    "for i in range(len(vars)):\n",
    "    print('Solution:')\n",
    "    print(str(vars[i])+' = ', vars[i].solution_value())\n",
    "print('Optimal objective value =', opt_solution)\n",
    "   "
   ]
  },
  {
   "cell_type": "code",
   "execution_count": null,
   "metadata": {},
   "outputs": [],
   "source": []
  }
 ],
 "metadata": {
  "kernelspec": {
   "display_name": "Python 3",
   "language": "python",
   "name": "python3"
  },
  "language_info": {
   "codemirror_mode": {
    "name": "ipython",
    "version": 3
   },
   "file_extension": ".py",
   "mimetype": "text/x-python",
   "name": "python",
   "nbconvert_exporter": "python",
   "pygments_lexer": "ipython3",
   "version": "3.7.0"
  }
 },
 "nbformat": 4,
 "nbformat_minor": 4
}
